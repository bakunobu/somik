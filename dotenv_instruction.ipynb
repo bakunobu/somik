{
 "cells": [
  {
   "cell_type": "markdown",
   "metadata": {},
   "source": [
    "# Как изолировать переменные окружения\n",
    "\n",
    "1) устанавливаем библиотеку dotenv\n",
    "pip install -U python-dotenv\n",
    "\n",
    "2) создаем переменную .env, в которой содержатся наши ключики\n",
    "KEY = my_key\n",
    "\n",
    "3) подгружаем модули\n",
    "import os\n",
    "\n",
    "from dotenv import load_dotenv, find_dotenv\n",
    "\n",
    "4) Подгружаем содержимое окружения\n",
    "load_dotenv(find_dotenv())\n",
    "\n",
    "5) Подгружаем сохраненные данные\n",
    "MY_KEY = os.environ.get('MY_KEY_FROM_ENV')"
   ]
  }
 ],
 "metadata": {
  "kernelspec": {
   "display_name": "Python 3",
   "language": "python",
   "name": "python3"
  },
  "language_info": {
   "codemirror_mode": {
    "name": "ipython",
    "version": 3
   },
   "file_extension": ".py",
   "mimetype": "text/x-python",
   "name": "python",
   "nbconvert_exporter": "python",
   "pygments_lexer": "ipython3",
   "version": "3.7.5"
  }
 },
 "nbformat": 4,
 "nbformat_minor": 4
}
